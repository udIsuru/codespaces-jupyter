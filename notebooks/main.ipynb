{
 "cells": [
  {
   "cell_type": "code",
   "execution_count": 7,
   "metadata": {},
   "outputs": [
    {
     "name": "stdout",
     "output_type": "stream",
     "text": [
      "hello world!\n"
     ]
    }
   ],
   "source": [
    "print(\"hello world!\")"
   ]
  },
  {
   "cell_type": "code",
   "execution_count": 8,
   "metadata": {},
   "outputs": [
    {
     "name": "stdout",
     "output_type": "stream",
     "text": [
      "Welcome to django workshop\n"
     ]
    }
   ],
   "source": [
    "print(\"Welcome to django workshop\")"
   ]
  },
  {
   "cell_type": "code",
   "execution_count": 9,
   "metadata": {},
   "outputs": [
    {
     "name": "stdout",
     "output_type": "stream",
     "text": [
      "hello world*python 3\n"
     ]
    }
   ],
   "source": [
    "print(\"hello world\",end=\"*\")\n",
    "print('python 3')"
   ]
  },
  {
   "cell_type": "code",
   "execution_count": 10,
   "metadata": {},
   "outputs": [
    {
     "name": "stdout",
     "output_type": "stream",
     "text": [
      "IT_AMC_TEC\n",
      "dog*cat*bird*mouse*rat\n",
      "Orage+Red+Green+Brown-T^Y^O^P-"
     ]
    }
   ],
   "source": [
    "print(\"IT\",\"AMC\",\"TEC\",sep=\"_\")\n",
    "print(\"dog\",\"cat\",\"bird\",\"mouse\",\"rat\",sep=\"*\")\n",
    "print(\"Orage\",\"Red\",\"Green\",\"Brown\",sep=\"+\",end=\"-\")\n",
    "print(\"T\",\"Y\",\"O\",\"P\",sep=\"^\",end=\"-\")"
   ]
  },
  {
   "cell_type": "code",
   "execution_count": 14,
   "metadata": {},
   "outputs": [
    {
     "name": "stdout",
     "output_type": "stream",
     "text": [
      "c_i_g_g_r_a_t_e_"
     ]
    }
   ],
   "source": [
    "c_list= ['c','i','g','g','r','a','t','e']\n",
    "for x in c_list:\n",
    "    print(x,end=\"_\")\n"
   ]
  },
  {
   "cell_type": "code",
   "execution_count": 16,
   "metadata": {},
   "outputs": [
    {
     "name": "stdout",
     "output_type": "stream",
     "text": [
      "A+A\n",
      "A+t\n",
      "A+t\n",
      "A+r\n",
      "A+i\n",
      "A+b\n",
      "A+u\n",
      "A+t\n",
      "A+e\n",
      "A+E\n",
      "A+r\n",
      "A+r\n",
      "A+o\n",
      "A+r\n",
      "r+A\n",
      "r+t\n",
      "r+t\n",
      "r+r\n",
      "r+i\n",
      "r+b\n",
      "r+u\n",
      "r+t\n",
      "r+e\n",
      "r+E\n",
      "r+r\n",
      "r+r\n",
      "r+o\n",
      "r+r\n",
      "i+A\n",
      "i+t\n",
      "i+t\n",
      "i+r\n",
      "i+i\n",
      "i+b\n",
      "i+u\n",
      "i+t\n",
      "i+e\n",
      "i+E\n",
      "i+r\n",
      "i+r\n",
      "i+o\n",
      "i+r\n",
      "t+A\n",
      "t+t\n",
      "t+t\n",
      "t+r\n",
      "t+i\n",
      "t+b\n",
      "t+u\n",
      "t+t\n",
      "t+e\n",
      "t+E\n",
      "t+r\n",
      "t+r\n",
      "t+o\n",
      "t+r\n",
      "h+A\n",
      "h+t\n",
      "h+t\n",
      "h+r\n",
      "h+i\n",
      "h+b\n",
      "h+u\n",
      "h+t\n",
      "h+e\n",
      "h+E\n",
      "h+r\n",
      "h+r\n",
      "h+o\n",
      "h+r\n",
      "m+A\n",
      "m+t\n",
      "m+t\n",
      "m+r\n",
      "m+i\n",
      "m+b\n",
      "m+u\n",
      "m+t\n",
      "m+e\n",
      "m+E\n",
      "m+r\n",
      "m+r\n",
      "m+o\n",
      "m+r\n",
      "a+A\n",
      "a+t\n",
      "a+t\n",
      "a+r\n",
      "a+i\n",
      "a+b\n",
      "a+u\n",
      "a+t\n",
      "a+e\n",
      "a+E\n",
      "a+r\n",
      "a+r\n",
      "a+o\n",
      "a+r\n",
      "t+A\n",
      "t+t\n",
      "t+t\n",
      "t+r\n",
      "t+i\n",
      "t+b\n",
      "t+u\n",
      "t+t\n",
      "t+e\n",
      "t+E\n",
      "t+r\n",
      "t+r\n",
      "t+o\n",
      "t+r\n",
      "i+A\n",
      "i+t\n",
      "i+t\n",
      "i+r\n",
      "i+i\n",
      "i+b\n",
      "i+u\n",
      "i+t\n",
      "i+e\n",
      "i+E\n",
      "i+r\n",
      "i+r\n",
      "i+o\n",
      "i+r\n",
      "c+A\n",
      "c+t\n",
      "c+t\n",
      "c+r\n",
      "c+i\n",
      "c+b\n",
      "c+u\n",
      "c+t\n",
      "c+e\n",
      "c+E\n",
      "c+r\n",
      "c+r\n",
      "c+o\n",
      "c+r\n",
      "O+A\n",
      "O+t\n",
      "O+t\n",
      "O+r\n",
      "O+i\n",
      "O+b\n",
      "O+u\n",
      "O+t\n",
      "O+e\n",
      "O+E\n",
      "O+r\n",
      "O+r\n",
      "O+o\n",
      "O+r\n",
      "p+A\n",
      "p+t\n",
      "p+t\n",
      "p+r\n",
      "p+i\n",
      "p+b\n",
      "p+u\n",
      "p+t\n",
      "p+e\n",
      "p+E\n",
      "p+r\n",
      "p+r\n",
      "p+o\n",
      "p+r\n",
      "e+A\n",
      "e+t\n",
      "e+t\n",
      "e+r\n",
      "e+i\n",
      "e+b\n",
      "e+u\n",
      "e+t\n",
      "e+e\n",
      "e+E\n",
      "e+r\n",
      "e+r\n",
      "e+o\n",
      "e+r\n",
      "r+A\n",
      "r+t\n",
      "r+t\n",
      "r+r\n",
      "r+i\n",
      "r+b\n",
      "r+u\n",
      "r+t\n",
      "r+e\n",
      "r+E\n",
      "r+r\n",
      "r+r\n",
      "r+o\n",
      "r+r\n",
      "a+A\n",
      "a+t\n",
      "a+t\n",
      "a+r\n",
      "a+i\n",
      "a+b\n",
      "a+u\n",
      "a+t\n",
      "a+e\n",
      "a+E\n",
      "a+r\n",
      "a+r\n",
      "a+o\n",
      "a+r\n",
      "t+A\n",
      "t+t\n",
      "t+t\n",
      "t+r\n",
      "t+i\n",
      "t+b\n",
      "t+u\n",
      "t+t\n",
      "t+e\n",
      "t+E\n",
      "t+r\n",
      "t+r\n",
      "t+o\n",
      "t+r\n",
      "o+A\n",
      "o+t\n",
      "o+t\n",
      "o+r\n",
      "o+i\n",
      "o+b\n",
      "o+u\n",
      "o+t\n",
      "o+e\n",
      "o+E\n",
      "o+r\n",
      "o+r\n",
      "o+o\n",
      "o+r\n",
      "r+A\n",
      "r+t\n",
      "r+t\n",
      "r+r\n",
      "r+i\n",
      "r+b\n",
      "r+u\n",
      "r+t\n",
      "r+e\n",
      "r+E\n",
      "r+r\n",
      "r+r\n",
      "r+o\n",
      "r+r\n"
     ]
    }
   ],
   "source": [
    "for n in \"ArithmaticOperator\":\n",
    "    for m in \"AttributeError\":\n",
    "        print(n,m,sep=\"+\",end=\"\\n\")"
   ]
  },
  {
   "cell_type": "code",
   "execution_count": 17,
   "metadata": {},
   "outputs": [
    {
     "name": "stdout",
     "output_type": "stream",
     "text": [
      "C_o_n_n_e_c_t_i_o_n_A_b_o_r_t_e_d_"
     ]
    }
   ],
   "source": [
    "j= int(input(\"Enter any number: \"));\n",
    "if(j==10):\n",
    "    print(\"ok\")\n",
    "else:\n",
    "    for x in \"ConnectionAborted\":\n",
    "        print(x,end=\"_\")"
   ]
  }
 ],
 "metadata": {
  "kernelspec": {
   "display_name": "Python 3",
   "language": "python",
   "name": "python3"
  },
  "language_info": {
   "codemirror_mode": {
    "name": "ipython",
    "version": 3
   },
   "file_extension": ".py",
   "mimetype": "text/x-python",
   "name": "python",
   "nbconvert_exporter": "python",
   "pygments_lexer": "ipython3",
   "version": "3.10.13"
  }
 },
 "nbformat": 4,
 "nbformat_minor": 2
}
